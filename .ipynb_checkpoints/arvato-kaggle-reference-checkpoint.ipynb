{
 "cells": [
  {
   "cell_type": "markdown",
   "metadata": {},
   "source": [
    "# Capstone Project: Create a Customer Segmentation Report for Arvato Financial Services\n",
    "\n",
    "In this project, you will analyze demographics data for customers of a mail-order sales company in Germany, comparing it against demographics information for the general population. You'll use unsupervised learning techniques to perform customer segmentation, identifying the parts of the population that best describe the core customer base of the company. Then, you'll apply what you've learned on a third dataset with demographics information for targets of a marketing campaign for the company, and use a model to predict which individuals are most likely to convert into becoming customers for the company. The data that you will use has been provided by our partners at Bertelsmann Arvato Analytics, and represents a real-life data science task.\n",
    "\n",
    "If you completed the first term of this program, you will be familiar with the first part of this project, from the unsupervised learning project. The versions of those two datasets used in this project will include many more features and has not been pre-cleaned. You are also free to choose whatever approach you'd like to analyzing the data rather than follow pre-determined steps. In your work on this project, make sure that you carefully document your steps and decisions, since your main deliverable for this project will be a blog post reporting your findings."
   ]
  },
  {
   "cell_type": "code",
   "execution_count": 1,
   "metadata": {},
   "outputs": [],
   "source": [
    "# import libraries here; add more as necessary\n",
    "import os\n",
    "import time\n",
    "import numpy as np\n",
    "import pandas as pd\n",
    "import matplotlib.pyplot as plt\n",
    "import seaborn as sns\n",
    "import warnings\n",
    "from sklearn.preprocessing import StandardScaler\n",
    "from sklearn.model_selection import train_test_split, cross_val_score\n",
    "from sklearn.model_selection import GridSearchCV\n",
    "from sklearn.metrics import roc_auc_score\n",
    "from sklearn.decomposition import PCA\n",
    "from sklearn.cluster import MiniBatchKMeans\n",
    "\n",
    "from sklearn.linear_model import LogisticRegression\n",
    "from sklearn.ensemble import AdaBoostClassifier, GradientBoostingClassifier, RandomForestClassifier\n",
    "from sklearn.neighbors import KNeighborsClassifier\n",
    "import xgboost as xgb\n",
    "\n",
    "from utils import *\n",
    "\n",
    "sns.set()\n",
    "warnings.filterwarnings(\"ignore\")\n",
    "SEED=0\n",
    "# magic word for producing visualizations in notebook\n",
    "%matplotlib inline"
   ]
  },
  {
   "cell_type": "markdown",
   "metadata": {},
   "source": [
    "## Part 0: Get to Know the Data\n",
    "\n",
    "There are four data files associated with this project:\n",
    "\n",
    "- `Udacity_AZDIAS_052018.csv`: Demographics data for the general population of Germany; 891 211 persons (rows) x 366 features (columns).\n",
    "- `Udacity_CUSTOMERS_052018.csv`: Demographics data for customers of a mail-order company; 191 652 persons (rows) x 369 features (columns).\n",
    "- `Udacity_MAILOUT_052018_TRAIN.csv`: Demographics data for individuals who were targets of a marketing campaign; 42 982 persons (rows) x 367 (columns).\n",
    "- `Udacity_MAILOUT_052018_TEST.csv`: Demographics data for individuals who were targets of a marketing campaign; 42 833 persons (rows) x 366 (columns).\n",
    "\n",
    "Each row of the demographics files represents a single person, but also includes information outside of individuals, including information about their household, building, and neighborhood. Use the information from the first two files to figure out how customers (\"CUSTOMERS\") are similar to or differ from the general population at large (\"AZDIAS\"), then use your analysis to make predictions on the other two files (\"MAILOUT\"), predicting which recipients are most likely to become a customer for the mail-order company.\n",
    "\n",
    "The \"CUSTOMERS\" file contains three extra columns ('CUSTOMER_GROUP', 'ONLINE_PURCHASE', and 'PRODUCT_GROUP'), which provide broad information about the customers depicted in the file. The original \"MAILOUT\" file included one additional column, \"RESPONSE\", which indicated whether or not each recipient became a customer of the company. For the \"TRAIN\" subset, this column has been retained, but in the \"TEST\" subset it has been removed; it is against that withheld column that your final predictions will be assessed in the Kaggle competition.\n",
    "\n",
    "Otherwise, all of the remaining columns are the same between the three data files. For more information about the columns depicted in the files, you can refer to two Excel spreadsheets provided in the workspace. [One of them](./DIAS Information Levels - Attributes 2017.xlsx) is a top-level list of attributes and descriptions, organized by informational category. [The other](./DIAS Attributes - Values 2017.xlsx) is a detailed mapping of data values for each feature in alphabetical order.\n",
    "\n",
    "In the below cell, we've provided some initial code to load in the first two datasets. Note for all of the `.csv` data files in this project that they're semicolon (`;`) delimited, so an additional argument in the [`read_csv()`](https://pandas.pydata.org/pandas-docs/stable/generated/pandas.read_csv.html) call has been included to read in the data properly. Also, considering the size of the datasets, it may take some time for them to load completely.\n",
    "\n",
    "You'll notice when the data is loaded in that a warning message will immediately pop up. Before you really start digging into the modeling and analysis, you're going to need to perform some cleaning. Take some time to browse the structure of the data and look over the informational spreadsheets to understand the data values. Make some decisions on which features to keep, which features to drop, and if any revisions need to be made on data formats. It'll be a good idea to create a function with pre-processing steps, since you'll need to clean all of the datasets before you work with them."
   ]
  },
  {
   "cell_type": "code",
   "execution_count": 3,
   "metadata": {},
   "outputs": [],
   "source": [
    "# load in the data\n",
    "azdias = pd.read_csv('arvato_data/Udacity_AZDIAS_052018.csv', sep=';')\n",
    "customers = pd.read_csv('arvato_data/Udacity_CUSTOMERS_052018.csv', sep=';')"
   ]
  },
  {
   "cell_type": "code",
   "execution_count": 4,
   "metadata": {},
   "outputs": [
    {
     "name": "stdout",
     "output_type": "stream",
     "text": [
      "Memory usage of dataframe is 2488.61 MB\n",
      "Memory usage after optimization is: 542.43 MB\n",
      "Decreased by 78.2%\n",
      "Memory usage of dataframe is 539.55 MB\n",
      "Memory usage after optimization is: 117.25 MB\n",
      "Decreased by 78.3%\n"
     ]
    }
   ],
   "source": [
    "# reduce memory size\n",
    "azdias = reduce_mem_usage(azdias)\n",
    "customers = reduce_mem_usage(customers)"
   ]
  },
  {
   "cell_type": "markdown",
   "metadata": {},
   "source": [
    "## 0.1 Values QA\n",
    "\n",
    "We are provided with a file with the metadata about the columns values. The goal of this section is to make sure the values in the data are consistent with those provided. We will look at null and values outside the limits established."
   ]
  },
  {
   "cell_type": "markdown",
   "metadata": {},
   "source": [
    "#### Columns with Metadata\n",
    "\n",
    "We are provided with a reference excel file with the metadata and description of the columns in the dataset. As a first approach, this will be our source of truth to address null values and outliers. Columns that do not appears in this metadata will be dropped."
   ]
  },
  {
   "cell_type": "code",
   "execution_count": 5,
   "metadata": {},
   "outputs": [
    {
     "data": {
      "text/html": [
       "<div>\n",
       "<style scoped>\n",
       "    .dataframe tbody tr th:only-of-type {\n",
       "        vertical-align: middle;\n",
       "    }\n",
       "\n",
       "    .dataframe tbody tr th {\n",
       "        vertical-align: top;\n",
       "    }\n",
       "\n",
       "    .dataframe thead th {\n",
       "        text-align: right;\n",
       "    }\n",
       "</style>\n",
       "<table border=\"1\" class=\"dataframe\">\n",
       "  <thead>\n",
       "    <tr style=\"text-align: right;\">\n",
       "      <th></th>\n",
       "      <th>Attribute</th>\n",
       "      <th>Description</th>\n",
       "      <th>Value</th>\n",
       "      <th>Meaning</th>\n",
       "    </tr>\n",
       "  </thead>\n",
       "  <tbody>\n",
       "    <tr>\n",
       "      <th>0</th>\n",
       "      <td>AGER_TYP</td>\n",
       "      <td>best-ager typology</td>\n",
       "      <td>-1</td>\n",
       "      <td>unknown</td>\n",
       "    </tr>\n",
       "    <tr>\n",
       "      <th>1</th>\n",
       "      <td>AGER_TYP</td>\n",
       "      <td>best-ager typology</td>\n",
       "      <td>0</td>\n",
       "      <td>no classification possible</td>\n",
       "    </tr>\n",
       "    <tr>\n",
       "      <th>2</th>\n",
       "      <td>AGER_TYP</td>\n",
       "      <td>best-ager typology</td>\n",
       "      <td>1</td>\n",
       "      <td>passive elderly</td>\n",
       "    </tr>\n",
       "    <tr>\n",
       "      <th>3</th>\n",
       "      <td>AGER_TYP</td>\n",
       "      <td>best-ager typology</td>\n",
       "      <td>2</td>\n",
       "      <td>cultural elderly</td>\n",
       "    </tr>\n",
       "    <tr>\n",
       "      <th>4</th>\n",
       "      <td>AGER_TYP</td>\n",
       "      <td>best-ager typology</td>\n",
       "      <td>3</td>\n",
       "      <td>experience-driven elderly</td>\n",
       "    </tr>\n",
       "  </tbody>\n",
       "</table>\n",
       "</div>"
      ],
      "text/plain": [
       "  Attribute         Description Value                     Meaning\n",
       "0  AGER_TYP  best-ager typology    -1                     unknown\n",
       "1  AGER_TYP  best-ager typology     0  no classification possible\n",
       "2  AGER_TYP  best-ager typology     1             passive elderly\n",
       "3  AGER_TYP  best-ager typology     2            cultural elderly\n",
       "4  AGER_TYP  best-ager typology     3   experience-driven elderly"
      ]
     },
     "execution_count": 5,
     "metadata": {},
     "output_type": "execute_result"
    }
   ],
   "source": [
    "# load metadata\n",
    "values_metadata = load_metadata()\n",
    "values_metadata.head()"
   ]
  },
  {
   "cell_type": "code",
   "execution_count": 6,
   "metadata": {},
   "outputs": [
    {
     "name": "stdout",
     "output_type": "stream",
     "text": [
      "There are 272 of 366 with metadata in azdias dataset\n",
      "There are 272 of 369 metadata in customers dataset\n"
     ]
    }
   ],
   "source": [
    "columns_with_metadata = values_metadata['Attribute'].unique().tolist()\n",
    "columns_with_metadata_azdias = [x for x in azdias.columns if x in columns_with_metadata]\n",
    "columns_with_metadata_customers = [x for x in customers.columns if x in columns_with_metadata]\n",
    "print(f'There are {len(columns_with_metadata_azdias)} of {len(azdias.columns)} with metadata in azdias dataset')\n",
    "print(f'There are {len(columns_with_metadata_customers)} of {len(customers.columns)} metadata in customers dataset')"
   ]
  },
  {
   "cell_type": "code",
   "execution_count": 7,
   "metadata": {},
   "outputs": [],
   "source": [
    "# Select columns with metadata\n",
    "azdias_clean = select_metadata_columns(azdias, columns_with_metadata)\n",
    "customers_clean = select_metadata_columns(customers, columns_with_metadata)"
   ]
  },
  {
   "cell_type": "markdown",
   "metadata": {},
   "source": [
    "#### Solve mixed data types\n",
    "In Column 19 there are mixed data types. These columns contains some rows with values 'X' or 'XX' for which there is no registry they are valid values. I will convert these values to NaN and change the data type to float for the entire column."
   ]
  },
  {
   "cell_type": "code",
   "execution_count": 8,
   "metadata": {},
   "outputs": [],
   "source": [
    "# solve mixed datatypes\n",
    "azdias_clean = fix_column_mixed_datatypes(azdias_clean)\n",
    "customers_clean = fix_column_mixed_datatypes(customers_clean)                                                                   "
   ]
  },
  {
   "cell_type": "markdown",
   "metadata": {},
   "source": [
    "#### Null Values\n",
    "\n",
    "According to the metadata info, there are values that indicates unknown values for the column. These values will be replace by a proper NaN values to ease the handling of null values."
   ]
  },
  {
   "cell_type": "code",
   "execution_count": 9,
   "metadata": {},
   "outputs": [
    {
     "data": {
      "text/html": [
       "<div>\n",
       "<style scoped>\n",
       "    .dataframe tbody tr th:only-of-type {\n",
       "        vertical-align: middle;\n",
       "    }\n",
       "\n",
       "    .dataframe tbody tr th {\n",
       "        vertical-align: top;\n",
       "    }\n",
       "\n",
       "    .dataframe thead th {\n",
       "        text-align: right;\n",
       "    }\n",
       "</style>\n",
       "<table border=\"1\" class=\"dataframe\">\n",
       "  <thead>\n",
       "    <tr style=\"text-align: right;\">\n",
       "      <th></th>\n",
       "      <th>Attribute</th>\n",
       "      <th>Description</th>\n",
       "      <th>Value</th>\n",
       "      <th>Meaning</th>\n",
       "    </tr>\n",
       "  </thead>\n",
       "  <tbody>\n",
       "    <tr>\n",
       "      <th>0</th>\n",
       "      <td>AGER_TYP</td>\n",
       "      <td>best-ager typology</td>\n",
       "      <td>[-1.0]</td>\n",
       "      <td>unknown</td>\n",
       "    </tr>\n",
       "    <tr>\n",
       "      <th>5</th>\n",
       "      <td>ALTERSKATEGORIE_GROB</td>\n",
       "      <td>age classification through prename analysis</td>\n",
       "      <td>[-1.0, 0.0]</td>\n",
       "      <td>unknown</td>\n",
       "    </tr>\n",
       "    <tr>\n",
       "      <th>11</th>\n",
       "      <td>ALTER_HH</td>\n",
       "      <td>main age within the household</td>\n",
       "      <td>[0.0]</td>\n",
       "      <td>unknown / no main age detectable</td>\n",
       "    </tr>\n",
       "    <tr>\n",
       "      <th>33</th>\n",
       "      <td>ANREDE_KZ</td>\n",
       "      <td>gender</td>\n",
       "      <td>[-1.0, 0.0]</td>\n",
       "      <td>unknown</td>\n",
       "    </tr>\n",
       "    <tr>\n",
       "      <th>40</th>\n",
       "      <td>BALLRAUM</td>\n",
       "      <td>distance to next urban centre</td>\n",
       "      <td>[-1.0]</td>\n",
       "      <td>unknown</td>\n",
       "    </tr>\n",
       "  </tbody>\n",
       "</table>\n",
       "</div>"
      ],
      "text/plain": [
       "               Attribute                                   Description  \\\n",
       "0               AGER_TYP                            best-ager typology   \n",
       "5   ALTERSKATEGORIE_GROB  age classification through prename analysis    \n",
       "11              ALTER_HH                 main age within the household   \n",
       "33             ANREDE_KZ                                        gender   \n",
       "40              BALLRAUM                distance to next urban centre    \n",
       "\n",
       "          Value                           Meaning  \n",
       "0        [-1.0]                           unknown  \n",
       "5   [-1.0, 0.0]                           unknown  \n",
       "11        [0.0]  unknown / no main age detectable  \n",
       "33  [-1.0, 0.0]                           unknown  \n",
       "40       [-1.0]                           unknown  "
      ]
     },
     "execution_count": 9,
     "metadata": {},
     "output_type": "execute_result"
    }
   ],
   "source": [
    "#check which values points to null values.\n",
    "null_metadata = values_metadata[values_metadata['Meaning'].str.contains('unknown')]\n",
    "null_metadata['Value'] = null_metadata['Value'].apply(lambda x: x.split(',') if isinstance(x, str) else [x])\n",
    "null_metadata['Value'] = null_metadata['Value'].apply(lambda row: list(map(float, row)))\n",
    "null_metadata.head()"
   ]
  },
  {
   "cell_type": "code",
   "execution_count": 10,
   "metadata": {},
   "outputs": [
    {
     "name": "stdout",
     "output_type": "stream",
     "text": [
      "224 columns were affected\n",
      "224 columns were affected\n"
     ]
    }
   ],
   "source": [
    "# replace values with NaN\n",
    "azdias_clean = replace_with_NaN(azdias_clean, null_metadata)\n",
    "customers_clean = replace_with_NaN(customers_clean, null_metadata)"
   ]
  },
  {
   "cell_type": "code",
   "execution_count": 11,
   "metadata": {},
   "outputs": [],
   "source": [
    "# save qa_files\n",
    "if not os.path.exists('data'):\n",
    "    os.makedirs('data')\n",
    "    \n",
    "azdias_clean.to_csv('data/azdias_qa.csv', index=False)\n",
    "customers_clean.to_csv('data/customers_qa.csv', index=False)"
   ]
  },
  {
   "cell_type": "markdown",
   "metadata": {},
   "source": [
    "## 0.2 Feature Engineering for Clustering\n",
    "\n",
    "Feature Engineering for clustering is the next step. This will include the following:\n",
    " - Handle outliers\n",
    " - Check for additional variables and cardinality of categorical and date variables\n",
    " - Define criteria to remove rows and columns\n",
    " - Data Standarization"
   ]
  },
  {
   "cell_type": "code",
   "execution_count": 12,
   "metadata": {
    "scrolled": true
   },
   "outputs": [],
   "source": [
    "# Read if needed\n",
    "# azdias_clean = pd.read_csv('data/qa_data/azdias_qa.csv')\n",
    "# customers_clean = pd.read_csv('data/qa_data/customers_qa.csv')\n",
    "# azdias_clean = reduce_mem_usage(azdias_clean)\n",
    "# customers_clean = reduce_mem_usage(customers_clean)"
   ]
  },
  {
   "cell_type": "markdown",
   "metadata": {},
   "source": [
    "#### Outliers\n",
    "\n",
    "The attribute info file provide us with the range of valid values for each column, apart from the null values. Values outside this range will be defaulted to either the min or max value according to the metadata."
   ]
  },
  {
   "cell_type": "code",
   "execution_count": 15,
   "metadata": {},
   "outputs": [
    {
     "name": "stdout",
     "output_type": "stream",
     "text": [
      "263 columns were affected\n",
      "263 columns were affected\n"
     ]
    }
   ],
   "source": [
    "values_boundaries = values_metadata.query('Meaning != \"unknown\"')\\\n",
    "                    .groupby('Attribute')['Value']\\\n",
    "                    .agg([np.min, np.max])\\\n",
    "                    .reset_index()\n",
    "\n",
    "values_boundaries['amin'] = pd.to_numeric(values_boundaries['amin'], errors='coerce')\n",
    "values_boundaries['amax'] = pd.to_numeric(values_boundaries['amax'], errors='coerce')\n",
    "values_boundaries.dropna(inplace=True)\n",
    "\n",
    "\n",
    "azdias_clean = cap_outliers_values(azdias_clean, values_boundaries)\n",
    "customers_clean = cap_outliers_values(customers_clean, values_boundaries)"
   ]
  },
  {
   "cell_type": "markdown",
   "metadata": {},
   "source": [
    "#### Categorical Variables\n",
    "\n",
    "There are 2 columns which types are not numeric. As a first approach, a column will be dropped if it has more than 10 unique values, if it has less, One-Hot Encoding will be applied to it. A high cardinality variable is going to increase the dimension space too much.\n",
    "\n",
    "Given the unique values in the following cell, OST_WEST_KZ, a categorical type with two unique values, and EIGEFUEGT_AM which is the date type are selected to be used in the first iteration."
   ]
  },
  {
   "cell_type": "code",
   "execution_count": 16,
   "metadata": {},
   "outputs": [
    {
     "name": "stdout",
     "output_type": "stream",
     "text": [
      "CAMEO_DEU_2015 has 45 unique values\n",
      "OST_WEST_KZ has 2 unique values\n",
      "[NaN, 'W', 'O']\n",
      "Categories (2, object): ['W', 'O']\n"
     ]
    }
   ],
   "source": [
    "# check nunique value\n",
    "cat_date = azdias_clean.select_dtypes(include='category')\n",
    "for var in cat_date.columns:\n",
    "    unique_val = cat_date[var].nunique()\n",
    "    print(var, 'has', unique_val, 'unique values')\n",
    "    if unique_val <= 10:\n",
    "        print(cat_date[var].unique())"
   ]
  },
  {
   "cell_type": "code",
   "execution_count": 17,
   "metadata": {},
   "outputs": [],
   "source": [
    "# onehot encoding for one, drop the other one.\n",
    "azdias_clean = cat_type_fe(azdias_clean)\n",
    "customers_clean = cat_type_fe(customers_clean)"
   ]
  },
  {
   "cell_type": "markdown",
   "metadata": {},
   "source": [
    "#### Remove Null Values\n",
    "\n",
    "In the first cell, we take a look at the level of null values in the columns. The plot shows the percentage of columns below a % threshold of null values. About 95% of columns has a 20% or less of null values. The other 5% will be removed. "
   ]
  },
  {
   "cell_type": "code",
   "execution_count": 18,
   "metadata": {},
   "outputs": [
    {
     "data": {
      "image/png": "[encoded data removed]",
      "text/plain": [
       "<Figure size 1008x216 with 2 Axes>"
      ]
     },
     "metadata": {
      "needs_background": "light"
     },
     "output_type": "display_data"
    }
   ],
   "source": [
    "#column wise\n",
    "thresholds = np.arange(0.05,1.1,0.05)\n",
    "    \n",
    "fig, (ax1, ax2) = plt.subplots(1,2, figsize = (14,3))\n",
    "sns.lineplot(x=thresholds, y = generate_null_list(azdias_clean, thresholds), ax=ax1)\n",
    "ax1.set_title('Azdias')\n",
    "ax1.set_xlabel('null value threshold')\n",
    "ax1.set_ylabel('% of columns below threshold')\n",
    "\n",
    "\n",
    "sns.lineplot(x=thresholds, y = generate_null_list(customers_clean, thresholds), ax=ax2)\n",
    "ax2.set_title('Customers')\n",
    "ax2.set_xlabel('null value threshold')\n",
    "ax2.set_ylabel('% of columns below threshold')\n",
    "\n",
    "plt.show()"
   ]
  },
  {
   "cell_type": "markdown",
   "metadata": {},
   "source": [
    "In this cell, we take a row wise approach after applying the approach of removing the columns with 20% or more null values. The plot shows the % of rows with null values below the threshold. In this case, the 87% of rows have less than 20% of null values. Given the big dataset, we can be confident in dropping the 13%."
   ]
  },
  {
   "cell_type": "code",
   "execution_count": 19,
   "metadata": {},
   "outputs": [
    {
     "data": {
      "image/png": "[encoded data removed]",
      "text/plain": [
       "<Figure size 1008x216 with 2 Axes>"
      ]
     },
     "metadata": {
      "needs_background": "light"
     },
     "output_type": "display_data"
    }
   ],
   "source": [
    "#row wise\n",
    "thresholds = np.arange(0.05,1.1,0.05)\n",
    "    \n",
    "fig, (ax1, ax2) = plt.subplots(1,2, figsize = (14,3))\n",
    "sns.lineplot(x=thresholds, y = generate_null_row_list(azdias_clean, thresholds, 0.2), ax=ax1)\n",
    "ax1.set_title('Azdias')\n",
    "ax1.set_xlabel('null value threshold')\n",
    "ax1.set_ylabel('% of rows below threshold')\n",
    "\n",
    "\n",
    "sns.lineplot(x=thresholds, y = generate_null_row_list(customers_clean, thresholds, 0.2), ax=ax2)\n",
    "ax2.set_title('Customers')\n",
    "ax2.set_xlabel('null value threshold')\n",
    "ax2.set_ylabel('% of rows below threshold')\n",
    "\n",
    "plt.show()"
   ]
  },
  {
   "cell_type": "code",
   "execution_count": 20,
   "metadata": {},
   "outputs": [],
   "source": [
    "azdias_clean = remove_null(azdias_clean, 0.3,0.2)\n",
    "customers_clean = remove_null(customers_clean, 0.3,0.2)\n"
   ]
  },
  {
   "cell_type": "markdown",
   "metadata": {},
   "source": [
    "### Impute null values\n",
    "There are still columns and rows will null values. To address this, the null values will be replaced by the mode of the columns. The values are more of a discrete type rather than a continuous, so it makes more sense to replace null values with the one that appears the most."
   ]
  },
  {
   "cell_type": "code",
   "execution_count": 21,
   "metadata": {},
   "outputs": [],
   "source": [
    "# replace with mode\n",
    "azdias_clean = mode_imputation(azdias_clean)\n",
    "customers_clean = mode_imputation(customers_clean)"
   ]
  },
  {
   "cell_type": "markdown",
   "metadata": {},
   "source": [
    "#### Clean function\n",
    "\n",
    "In this section we are going to test a function that groups all previous steps. This will give us a pipeline from raw dataset to a clean dataset ready for modelling purposes."
   ]
  },
  {
   "cell_type": "code",
   "execution_count": 49,
   "metadata": {
    "scrolled": true
   },
   "outputs": [
    {
     "name": "stdout",
     "output_type": "stream",
     "text": [
      "Memory usage of dataframe is 2488.61 MB\n",
      "Memory usage after optimization is: 542.43 MB\n",
      "Decreased by 78.2%\n",
      "Selecting Columns with metadata\n",
      "Fixing mix data types\n",
      "Replace values for NaN\n",
      "224 columns were affected\n",
      "Capping Outliers\n",
      "263 columns were affected\n",
      "Feature Eng for categorical variables\n",
      "Removing rows and columns with more than 20% null values\n",
      "Impute Null values with Mode\n",
      "Pipeline Finished\n"
     ]
    }
   ],
   "source": [
    "values_metadata = load_metadata()\n",
    "\n",
    "azdias = pd.read_csv('arvato_data/Udacity_AZDIAS_052018.csv', sep=';')\n",
    "azdias = reduce_mem_usage(azdias)\n",
    "azdias_clean = clean_datasets(df = azdias, metadata=values_metadata, remove_null_values=True, column_limit=0.3, row_limit=0.3)"
   ]
  },
  {
   "cell_type": "code",
   "execution_count": 50,
   "metadata": {
    "scrolled": true
   },
   "outputs": [
    {
     "name": "stdout",
     "output_type": "stream",
     "text": [
      "Memory usage of dataframe is 539.55 MB\n",
      "Memory usage after optimization is: 117.25 MB\n",
      "Decreased by 78.3%\n",
      "Selecting Columns with metadata\n",
      "Fixing mix data types\n",
      "Replace values for NaN\n",
      "224 columns were affected\n",
      "Capping Outliers\n",
      "263 columns were affected\n",
      "Feature Eng for categorical variables\n",
      "Removing rows and columns with more than 20% null values\n",
      "Impute Null values with Mode\n",
      "Pipeline Finished\n"
     ]
    }
   ],
   "source": [
    "customers = pd.read_csv('arvato_data/Udacity_CUSTOMERS_052018.csv', sep=';')\n",
    "customers = reduce_mem_usage(customers)\n",
    "customers_clean = clean_datasets(df = customers, metadata=values_metadata, remove_null_values=True, column_limit=0.35, row_limit=0.3)"
   ]
  },
  {
   "cell_type": "code",
   "execution_count": 51,
   "metadata": {},
   "outputs": [],
   "source": [
    "final_cols = [var for var in customers_clean.columns if var in azdias_clean.columns]\n",
    "customers_clean = customers_clean[final_cols]"
   ]
  },
  {
   "cell_type": "markdown",
   "metadata": {},
   "source": [
    "#### Standarization\n",
    "\n",
    "The final step is to scale the data using the standard method. Many ML algorithms (like PCA and KMeans) works better if data is scaled properly because they employ some form of distance in their loss function."
   ]
  },
  {
   "cell_type": "code",
   "execution_count": 52,
   "metadata": {},
   "outputs": [],
   "source": [
    "scaler = StandardScaler()\n",
    "azdias_scaled = pd.DataFrame(scaler.fit_transform(azdias_clean), columns=azdias_clean.columns)\n",
    "customers_scaled = pd.DataFrame(scaler.transform(customers_clean), columns=customers_clean.columns)"
   ]
  },
  {
   "cell_type": "code",
   "execution_count": null,
   "metadata": {},
   "outputs": [],
   "source": [
    "# save final data\n",
    "azdias_scaled.to_csv('data/azdias_scaled.csv', index=False)\n",
    "customers_scaled.to_csv('data/customers_scaled.csv', index=False)"
   ]
  },
  {
   "cell_type": "code",
   "execution_count": 53,
   "metadata": {},
   "outputs": [],
   "source": [
    "azdias, customers = None, None"
   ]
  },
  {
   "cell_type": "markdown",
   "metadata": {},
   "source": [
    "### 1. PCA AND CLUSTERING\n",
    "\n",
    "In this section, the modelling for clustering is done. The first step is to perform a PCA analysis. The current dimensional space is around 270 features, quite high for algorithms like KMeans. A PCA transformation has the goal to reduce this feature space while retaining the mayority of variance."
   ]
  },
  {
   "cell_type": "markdown",
   "metadata": {},
   "source": [
    "### 1.1 PCA\n",
    "\n",
    "First, a PCA transformation without setting a number of components will help us to see how many of them we want to inlucde in our analysis. In this first approach, we aim to retain around 80% of the variance. \n",
    "\n",
    "After applying the algorithm, it says that we require 85 components."
   ]
  },
  {
   "cell_type": "code",
   "execution_count": 54,
   "metadata": {},
   "outputs": [
    {
     "data": {
      "text/plain": [
       "array([[-1.59422417e+00,  5.67374495e+00,  1.69335618e+00, ...,\n",
       "        -7.53006307e-02,  5.07783577e-15,  4.56022033e-14],\n",
       "       [ 6.26242952e-01,  2.93436964e+00, -2.58133642e+00, ...,\n",
       "        -1.75510430e-02, -1.36344150e-15, -8.17497792e-15],\n",
       "       [ 3.92036954e+00,  1.03019775e+00, -5.66689445e+00, ...,\n",
       "         1.95482901e-01,  2.06080821e-15,  2.21065380e-14],\n",
       "       ...,\n",
       "       [ 2.37377519e+00,  2.06451102e-01,  1.69351045e-01, ...,\n",
       "         1.22386671e-01, -1.29927667e-16,  5.97712951e-16],\n",
       "       [-7.59479460e+00, -2.61561516e+00,  2.68345756e+00, ...,\n",
       "         3.50107170e-02,  2.02412769e-16,  4.15517191e-16],\n",
       "       [-4.41422657e-01,  4.72133978e-01, -4.57023282e+00, ...,\n",
       "         2.27307183e-03,  1.31335915e-16,  2.97227595e-15]])"
      ]
     },
     "execution_count": 54,
     "metadata": {},
     "output_type": "execute_result"
    }
   ],
   "source": [
    "pca = PCA(random_state=SEED)\n",
    "pca.fit_transform(azdias_scaled)"
   ]
  },
  {
   "cell_type": "code",
   "execution_count": 55,
   "metadata": {},
   "outputs": [
    {
     "name": "stdout",
     "output_type": "stream",
     "text": [
      "To achieve 80% of variance are required 85 components\n"
     ]
    },
    {
     "data": {
      "image/png": "[encoded data removed]",
      "text/plain": [
       "<Figure size 432x288 with 1 Axes>"
      ]
     },
     "metadata": {
      "needs_background": "light"
     },
     "output_type": "display_data"
    }
   ],
   "source": [
    "desired_variance=0.8\n",
    "cum_variance = np.cumsum(pca.explained_variance_ratio_)\n",
    "required_components = np.where(cum_variance >= desired_variance)[0][0] + 1\n",
    "print(f'To achieve {desired_variance:.0%} of variance are required {required_components} components')\n",
    "sns.lineplot(x=np.arange(1,pca.n_components_+1), y=cum_variance)\n",
    "plt.axhline(desired_variance, linestyle='dashed', color='red')\n",
    "plt.axvline(required_components, linestyle='dashed', color='red')\n",
    "plt.xlabel('N_components')\n",
    "plt.ylabel('% Variance')\n",
    "plt.show()"
   ]
  },
  {
   "cell_type": "code",
   "execution_count": 56,
   "metadata": {},
   "outputs": [],
   "source": [
    "pca = PCA(n_components=required_components, random_state=SEED)\n",
    "azdias_pca = pca.fit_transform(azdias_scaled)\n",
    "customers_pca = pca.transform(customers_scaled)"
   ]
  },
  {
   "cell_type": "markdown",
   "metadata": {},
   "source": [
    "### Explain components\n",
    "Well try to explain what variables influences some of the components from the PCA"
   ]
  },
  {
   "cell_type": "code",
   "execution_count": 57,
   "metadata": {},
   "outputs": [],
   "source": [
    "def explain_component(df, pca, component, top_weights=5, print_description=False):\n",
    "    weights = pd.DataFrame(pca.components_[component], index=azdias_scaled.columns, columns=['weights'])\\\n",
    "                .sort_values(by='weights', ascending=True)\n",
    "\n",
    "    top_n_weights = pd.concat([weights.iloc[:top_weights], weights.iloc[-top_weights:]])\n",
    "\n",
    "    sns.barplot(x=top_n_weights['weights'], y = top_n_weights.index)\n",
    "    plt.title(f'PCA Composition for component {component}')\n",
    "    plt.show()\n",
    "    \n",
    "    if print_description:\n",
    "        atributos_top_n = top_n_weights.index.tolist()\n",
    "        print(values_metadata\\\n",
    "            .loc[lambda row: row['Attribute'].isin(atributos_top_n),:]\\\n",
    "            .query('Meaning != \"unknown\"')\\\n",
    "            .groupby(['Attribute', 'Description'])['Value']\\\n",
    "            .agg([np.min, np.max])\\\n",
    "            .reset_index()\n",
    "            .drop(columns=['amin', 'amax'])\n",
    "             )"
   ]
  },
  {
   "cell_type": "markdown",
   "metadata": {},
   "source": [
    "#### Component 0\n",
    "\n",
    "The output from the function indicates that this component has relation with the socialeconomic status of a user in question."
   ]
  },
  {
   "cell_type": "code",
   "execution_count": 58,
   "metadata": {},
   "outputs": [
    {
     "data": {
      "image/png": "[encoded data removed]",
      "text/plain": [
       "<Figure size 432x288 with 1 Axes>"
      ]
     },
     "metadata": {
      "needs_background": "light"
     },
     "output_type": "display_data"
    },
    {
     "name": "stdout",
     "output_type": "stream",
     "text": [
      "            Attribute                               Description\n",
      "0     CAMEO_DEUG_2015    CAMEO classification 2015 - Uppergroup\n",
      "1  HH_EINKOMMEN_SCORE           estimated household net income \n",
      "2      LP_STATUS_FEIN                        social status fine\n",
      "3      LP_STATUS_GROB                       social status rough\n",
      "4          PLZ8_ANTG1   number of 1-2 family houses in the PLZ8\n",
      "5          PLZ8_ANTG3  number of 6-10 family houses in the PLZ8\n"
     ]
    }
   ],
   "source": [
    "explain_component(azdias_scaled, pca, 0, 3, True)"
   ]
  },
  {
   "cell_type": "markdown",
   "metadata": {},
   "source": [
    "#### Component 1\n",
    "\n",
    "The output from the function indicates that this component has relation with the car ownership from the user in question."
   ]
  },
  {
   "cell_type": "code",
   "execution_count": 59,
   "metadata": {},
   "outputs": [
    {
     "data": {
      "image/png": "[encoded data removed]",
      "text/plain": [
       "<Figure size 432x288 with 1 Axes>"
      ]
     },
     "metadata": {
      "needs_background": "light"
     },
     "output_type": "display_data"
    },
    {
     "name": "stdout",
     "output_type": "stream",
     "text": [
      "                     Attribute  \\\n",
      "0         KBA13_HERST_BMW_BENZ   \n",
      "1            KBA13_KMH_140_210   \n",
      "2               KBA13_MERCEDES   \n",
      "3         KBA13_SEG_KLEINWAGEN   \n",
      "4  KBA13_SEG_OBEREMITTELKLASSE   \n",
      "5                KBA13_SITZE_5   \n",
      "\n",
      "                                         Description  \n",
      "0       share of BMW & Mercedes Benz within the PLZ8  \n",
      "1  share of cars with max speed between 140 and 2...  \n",
      "2                  share of MERCEDES within the PLZ8  \n",
      "3  share of small and very small cars (Ford Fiest...  \n",
      "4  share of upper middle class cars and upper cla...  \n",
      "5            number of cars with 5 seats in the PLZ8  \n"
     ]
    }
   ],
   "source": [
    "explain_component(azdias_scaled, pca, 1,3,True)"
   ]
  },
  {
   "cell_type": "markdown",
   "metadata": {},
   "source": [
    "#### Component 2\n",
    "\n",
    "The output from the function indicates that this component has relation with the user online payment history"
   ]
  },
  {
   "cell_type": "code",
   "execution_count": 60,
   "metadata": {},
   "outputs": [
    {
     "data": {
      "image/png": "[encoded data removed]",
      "text/plain": [
       "<Figure size 432x288 with 1 Axes>"
      ]
     },
     "metadata": {
      "needs_background": "light"
     },
     "output_type": "display_data"
    },
    {
     "name": "stdout",
     "output_type": "stream",
     "text": [
      "                  Attribute                                        Description\n",
      "0         D19_GESAMT_ANZ_12  transaction activity TOTAL POOL in the last 12...\n",
      "1         D19_GESAMT_ANZ_24  transaction activity TOTAL POOL in the last 24...\n",
      "2          D19_GESAMT_DATUM  actuality of the last transaction with the com...\n",
      "3   D19_GESAMT_ONLINE_DATUM  actuality of the last transaction with the com...\n",
      "4  D19_VERSAND_ONLINE_DATUM  actuality of the last transaction for the segm...\n",
      "5         ONLINE_AFFINITAET                                    online affinity\n"
     ]
    }
   ],
   "source": [
    "explain_component(azdias_scaled, pca, 2,3,True)"
   ]
  },
  {
   "cell_type": "markdown",
   "metadata": {},
   "source": [
    "### K-Means\n",
    "\n",
    "To select the number of clusters, we will apply the elbow method. we will fit various model with a range of clusters and we will select the cluster for which the score bends, indicating a turning point. From the chart above, we will select 7 clusters."
   ]
  },
  {
   "cell_type": "code",
   "execution_count": 61,
   "metadata": {},
   "outputs": [],
   "source": [
    "def get_Kmeans_scores(data, K_start, K_end, step=1):\n",
    "    scores = []\n",
    "    print(\"Performing K-Means clustering\")\n",
    "    print(\"Given range min:{}, max:{}, step:{}\".format(K_start, K_end, step))\n",
    "    for n in range(K_start, K_end+1, step):\n",
    "#         print(\"\\nTraining for n_clusters: \", n)\n",
    "        start = time.time()\n",
    "        kmeans = MiniBatchKMeans(n, random_state=SEED)\n",
    "        model = kmeans.fit(data)\n",
    "        scores.append(abs(model.score(data)))\n",
    "#         print(\"Done! Score: \", scores[-1])\n",
    "#         print(\"Time elapsed: {:.2f} sec.\".format(time.time()-start))\n",
    "        \n",
    "    return scores, range(K_start, K_end+1, step)"
   ]
  },
  {
   "cell_type": "code",
   "execution_count": 62,
   "metadata": {},
   "outputs": [
    {
     "name": "stdout",
     "output_type": "stream",
     "text": [
      "Performing K-Means clustering\n",
      "Given range min:2, max:20, step:1\n"
     ]
    },
    {
     "data": {
      "image/png": "[encoded data removed]",
      "text/plain": [
       "<Figure size 432x288 with 1 Axes>"
      ]
     },
     "metadata": {
      "needs_background": "light"
     },
     "output_type": "display_data"
    }
   ],
   "source": [
    "import time\n",
    "\n",
    "scores, range_ = get_Kmeans_scores(azdias_pca, 2, 20, 1)\n",
    "sns.lineplot(x=range_, y=scores)\n",
    "plt.xlabel('N clusters')\n",
    "plt.show()"
   ]
  },
  {
   "cell_type": "code",
   "execution_count": 63,
   "metadata": {},
   "outputs": [],
   "source": [
    "# fit a model with 7 clusters\n",
    "kmeans= MiniBatchKMeans(7,random_state=SEED)\n",
    "kmeans.fit(azdias_pca)\n",
    "\n",
    "azdias_clusters = kmeans.predict(azdias_pca)\n",
    "customer_clusters = kmeans.predict(customers_pca)"
   ]
  },
  {
   "cell_type": "markdown",
   "metadata": {},
   "source": [
    "### Cluster exploration"
   ]
  },
  {
   "cell_type": "markdown",
   "metadata": {},
   "source": [
    "#### Cluster distribution\n",
    "\n",
    "From the plot below, it seems there is likelihood for users in the clustres 2,3 and 6 to be Customers of Arvato while users from the customers 0 and 1 are not. "
   ]
  },
  {
   "cell_type": "code",
   "execution_count": 64,
   "metadata": {},
   "outputs": [
    {
     "data": {
      "image/png": "[encoded data removed]",
      "text/plain": [
       "<Figure size 432x288 with 1 Axes>"
      ]
     },
     "metadata": {
      "needs_background": "light"
     },
     "output_type": "display_data"
    }
   ],
   "source": [
    "cluster_distribution = pd.concat([\n",
    "                        pd.Series(azdias_clusters).value_counts(normalize=True).to_frame().sort_index(),\n",
    "                        pd.Series(customer_clusters).value_counts(normalize=True).to_frame().sort_index(),\n",
    "                    ],\n",
    "                    axis=1\n",
    "                    )\n",
    "cluster_distribution.columns=['General', 'Customers']\n",
    "\n",
    "cluster_distribution.plot(kind='bar')\n",
    "plt.title('% of users in each cluster')\n",
    "plt.show()"
   ]
  },
  {
   "cell_type": "markdown",
   "metadata": {},
   "source": [
    "### Cluster interpretability\n",
    "\n",
    "To understand each cluster, we'll take a look at the variables that forms the first 3 components from the PCA, which accounts for about 20% of the variance. The focus will be on clusteres 2,4 and 6 from where the majority of customers are from."
   ]
  },
  {
   "cell_type": "code",
   "execution_count": 65,
   "metadata": {},
   "outputs": [
    {
     "data": {
      "text/html": [
       "<div>\n",
       "<style scoped>\n",
       "    .dataframe tbody tr th:only-of-type {\n",
       "        vertical-align: middle;\n",
       "    }\n",
       "\n",
       "    .dataframe tbody tr th {\n",
       "        vertical-align: top;\n",
       "    }\n",
       "\n",
       "    .dataframe thead th {\n",
       "        text-align: right;\n",
       "    }\n",
       "</style>\n",
       "<table border=\"1\" class=\"dataframe\">\n",
       "  <thead>\n",
       "    <tr style=\"text-align: right;\">\n",
       "      <th></th>\n",
       "      <th>CAMEO_DEUG_2015</th>\n",
       "      <th>HH_EINKOMMEN_SCORE</th>\n",
       "      <th>LP_STATUS_FEIN</th>\n",
       "      <th>LP_STATUS_GROB</th>\n",
       "      <th>PLZ8_ANTG1</th>\n",
       "      <th>PLZ8_ANTG3</th>\n",
       "      <th>KBA13_HERST_BMW_BENZ</th>\n",
       "      <th>KBA13_KMH_140_210</th>\n",
       "      <th>KBA13_MERCEDES</th>\n",
       "      <th>KBA13_SEG_KLEINWAGEN</th>\n",
       "      <th>KBA13_SEG_OBEREMITTELKLASSE</th>\n",
       "      <th>KBA13_SITZE_5</th>\n",
       "      <th>D19_GESAMT_ANZ_12</th>\n",
       "      <th>D19_GESAMT_ANZ_24</th>\n",
       "      <th>D19_GESAMT_DATUM</th>\n",
       "      <th>D19_GESAMT_ONLINE_DATUM</th>\n",
       "      <th>D19_VERSAND_ONLINE_DATUM</th>\n",
       "      <th>ONLINE_AFFINITAET</th>\n",
       "    </tr>\n",
       "  </thead>\n",
       "  <tbody>\n",
       "    <tr>\n",
       "      <th>0</th>\n",
       "      <td>7.944148</td>\n",
       "      <td>5.496592</td>\n",
       "      <td>1.857459</td>\n",
       "      <td>1.252179</td>\n",
       "      <td>1.056241</td>\n",
       "      <td>2.788293</td>\n",
       "      <td>3.569380</td>\n",
       "      <td>2.654319</td>\n",
       "      <td>3.380674</td>\n",
       "      <td>2.785102</td>\n",
       "      <td>3.625041</td>\n",
       "      <td>2.434790</td>\n",
       "      <td>0.549792</td>\n",
       "      <td>0.911758</td>\n",
       "      <td>7.632898</td>\n",
       "      <td>8.108385</td>\n",
       "      <td>8.351885</td>\n",
       "      <td>2.406346</td>\n",
       "    </tr>\n",
       "    <tr>\n",
       "      <th>1</th>\n",
       "      <td>4.670749</td>\n",
       "      <td>4.047415</td>\n",
       "      <td>6.521393</td>\n",
       "      <td>3.080798</td>\n",
       "      <td>2.655994</td>\n",
       "      <td>0.930389</td>\n",
       "      <td>1.804876</td>\n",
       "      <td>3.316948</td>\n",
       "      <td>1.889252</td>\n",
       "      <td>3.857626</td>\n",
       "      <td>1.888584</td>\n",
       "      <td>4.487002</td>\n",
       "      <td>1.025683</td>\n",
       "      <td>1.567274</td>\n",
       "      <td>6.368031</td>\n",
       "      <td>7.113980</td>\n",
       "      <td>7.383341</td>\n",
       "      <td>2.876338</td>\n",
       "    </tr>\n",
       "    <tr>\n",
       "      <th>2</th>\n",
       "      <td>4.144639</td>\n",
       "      <td>3.676613</td>\n",
       "      <td>7.087760</td>\n",
       "      <td>3.409899</td>\n",
       "      <td>2.975947</td>\n",
       "      <td>0.855304</td>\n",
       "      <td>3.112408</td>\n",
       "      <td>3.004206</td>\n",
       "      <td>3.151618</td>\n",
       "      <td>2.858780</td>\n",
       "      <td>3.126575</td>\n",
       "      <td>2.679865</td>\n",
       "      <td>0.230675</td>\n",
       "      <td>0.553640</td>\n",
       "      <td>8.125237</td>\n",
       "      <td>8.902457</td>\n",
       "      <td>9.154192</td>\n",
       "      <td>2.285215</td>\n",
       "    </tr>\n",
       "    <tr>\n",
       "      <th>3</th>\n",
       "      <td>7.625917</td>\n",
       "      <td>5.621167</td>\n",
       "      <td>2.073273</td>\n",
       "      <td>1.282835</td>\n",
       "      <td>1.151690</td>\n",
       "      <td>2.628759</td>\n",
       "      <td>1.842536</td>\n",
       "      <td>3.441021</td>\n",
       "      <td>1.849410</td>\n",
       "      <td>3.671949</td>\n",
       "      <td>1.962675</td>\n",
       "      <td>4.425545</td>\n",
       "      <td>0.549548</td>\n",
       "      <td>0.915581</td>\n",
       "      <td>7.581318</td>\n",
       "      <td>8.148202</td>\n",
       "      <td>8.367385</td>\n",
       "      <td>2.269978</td>\n",
       "    </tr>\n",
       "    <tr>\n",
       "      <th>4</th>\n",
       "      <td>4.524410</td>\n",
       "      <td>3.687482</td>\n",
       "      <td>5.126627</td>\n",
       "      <td>2.718708</td>\n",
       "      <td>2.334696</td>\n",
       "      <td>1.600713</td>\n",
       "      <td>4.265250</td>\n",
       "      <td>1.932117</td>\n",
       "      <td>4.092466</td>\n",
       "      <td>2.151632</td>\n",
       "      <td>4.021287</td>\n",
       "      <td>2.082601</td>\n",
       "      <td>0.599679</td>\n",
       "      <td>1.023889</td>\n",
       "      <td>7.274228</td>\n",
       "      <td>7.980227</td>\n",
       "      <td>8.221351</td>\n",
       "      <td>2.576513</td>\n",
       "    </tr>\n",
       "    <tr>\n",
       "      <th>5</th>\n",
       "      <td>6.949844</td>\n",
       "      <td>5.571194</td>\n",
       "      <td>2.278513</td>\n",
       "      <td>1.400215</td>\n",
       "      <td>1.963081</td>\n",
       "      <td>1.960442</td>\n",
       "      <td>3.226877</td>\n",
       "      <td>2.960868</td>\n",
       "      <td>3.266923</td>\n",
       "      <td>3.084486</td>\n",
       "      <td>3.277145</td>\n",
       "      <td>2.658724</td>\n",
       "      <td>0.256765</td>\n",
       "      <td>0.511489</td>\n",
       "      <td>8.389751</td>\n",
       "      <td>8.941152</td>\n",
       "      <td>9.130640</td>\n",
       "      <td>1.965124</td>\n",
       "    </tr>\n",
       "    <tr>\n",
       "      <th>6</th>\n",
       "      <td>4.269285</td>\n",
       "      <td>3.461821</td>\n",
       "      <td>6.890026</td>\n",
       "      <td>3.326200</td>\n",
       "      <td>2.753162</td>\n",
       "      <td>1.128523</td>\n",
       "      <td>3.265775</td>\n",
       "      <td>2.891093</td>\n",
       "      <td>3.270052</td>\n",
       "      <td>2.864418</td>\n",
       "      <td>3.223839</td>\n",
       "      <td>2.638840</td>\n",
       "      <td>2.818904</td>\n",
       "      <td>3.896704</td>\n",
       "      <td>2.376172</td>\n",
       "      <td>3.141947</td>\n",
       "      <td>3.672753</td>\n",
       "      <td>4.660419</td>\n",
       "    </tr>\n",
       "  </tbody>\n",
       "</table>\n",
       "</div>"
      ],
      "text/plain": [
       "   CAMEO_DEUG_2015  HH_EINKOMMEN_SCORE  LP_STATUS_FEIN  LP_STATUS_GROB  \\\n",
       "0         7.944148            5.496592        1.857459        1.252179   \n",
       "1         4.670749            4.047415        6.521393        3.080798   \n",
       "2         4.144639            3.676613        7.087760        3.409899   \n",
       "3         7.625917            5.621167        2.073273        1.282835   \n",
       "4         4.524410            3.687482        5.126627        2.718708   \n",
       "5         6.949844            5.571194        2.278513        1.400215   \n",
       "6         4.269285            3.461821        6.890026        3.326200   \n",
       "\n",
       "   PLZ8_ANTG1  PLZ8_ANTG3  KBA13_HERST_BMW_BENZ  KBA13_KMH_140_210  \\\n",
       "0    1.056241    2.788293              3.569380           2.654319   \n",
       "1    2.655994    0.930389              1.804876           3.316948   \n",
       "2    2.975947    0.855304              3.112408           3.004206   \n",
       "3    1.151690    2.628759              1.842536           3.441021   \n",
       "4    2.334696    1.600713              4.265250           1.932117   \n",
       "5    1.963081    1.960442              3.226877           2.960868   \n",
       "6    2.753162    1.128523              3.265775           2.891093   \n",
       "\n",
       "   KBA13_MERCEDES  KBA13_SEG_KLEINWAGEN  KBA13_SEG_OBEREMITTELKLASSE  \\\n",
       "0        3.380674              2.785102                     3.625041   \n",
       "1        1.889252              3.857626                     1.888584   \n",
       "2        3.151618              2.858780                     3.126575   \n",
       "3        1.849410              3.671949                     1.962675   \n",
       "4        4.092466              2.151632                     4.021287   \n",
       "5        3.266923              3.084486                     3.277145   \n",
       "6        3.270052              2.864418                     3.223839   \n",
       "\n",
       "   KBA13_SITZE_5  D19_GESAMT_ANZ_12  D19_GESAMT_ANZ_24  D19_GESAMT_DATUM  \\\n",
       "0       2.434790           0.549792           0.911758          7.632898   \n",
       "1       4.487002           1.025683           1.567274          6.368031   \n",
       "2       2.679865           0.230675           0.553640          8.125237   \n",
       "3       4.425545           0.549548           0.915581          7.581318   \n",
       "4       2.082601           0.599679           1.023889          7.274228   \n",
       "5       2.658724           0.256765           0.511489          8.389751   \n",
       "6       2.638840           2.818904           3.896704          2.376172   \n",
       "\n",
       "   D19_GESAMT_ONLINE_DATUM  D19_VERSAND_ONLINE_DATUM  ONLINE_AFFINITAET  \n",
       "0                 8.108385                  8.351885           2.406346  \n",
       "1                 7.113980                  7.383341           2.876338  \n",
       "2                 8.902457                  9.154192           2.285215  \n",
       "3                 8.148202                  8.367385           2.269978  \n",
       "4                 7.980227                  8.221351           2.576513  \n",
       "5                 8.941152                  9.130640           1.965124  \n",
       "6                 3.141947                  3.672753           4.660419  "
      ]
     },
     "execution_count": 65,
     "metadata": {},
     "output_type": "execute_result"
    }
   ],
   "source": [
    "cols_to_select = [\n",
    "    'CAMEO_DEUG_2015',\n",
    "    'HH_EINKOMMEN_SCORE',\n",
    "    'LP_STATUS_FEIN',\n",
    "    'LP_STATUS_GROB',\n",
    "    'PLZ8_ANTG1',\n",
    "    'PLZ8_ANTG3',\n",
    "    'KBA13_HERST_BMW_BENZ',\n",
    "    'KBA13_KMH_140_210',\n",
    "    'KBA13_MERCEDES',\n",
    "    'KBA13_SEG_KLEINWAGEN',\n",
    "    'KBA13_SEG_OBEREMITTELKLASSE',\n",
    "    'KBA13_SITZE_5',\n",
    "    'D19_GESAMT_ANZ_12',\n",
    "    'D19_GESAMT_ANZ_24',\n",
    "    'D19_GESAMT_DATUM',\n",
    "    'D19_GESAMT_ONLINE_DATUM',\n",
    "    'D19_VERSAND_ONLINE_DATUM',\n",
    "    'ONLINE_AFFINITAET'\n",
    "    \n",
    "]\n",
    "\n",
    "cluster_specs = pd.DataFrame(scaler.inverse_transform(pca.inverse_transform(kmeans.cluster_centers_)), columns=azdias_scaled.columns)\\\n",
    ".loc[:,cols_to_select]\n",
    "cluster_specs"
   ]
  },
  {
   "cell_type": "markdown",
   "metadata": {},
   "source": [
    "Cluster 0, 4 and 5 seems to be formed from users between upper class and consupmtion oriented middle class with high income given their lower median score in both CAMEO_DEUG_2015 and HH_EINKOMMEN_SCORE variables.\n",
    "\n",
    "The high values in the LP_STATUS variables indicates these users are workers with rental properties in their names, either recently bought or not.\n",
    "\n",
    "The high value in the PLZ8_ANTG1 and the low value in the PLZ8_ANTG3 suggests these users may be young worker that are either single or have just started living in couple. There's a big share of familiy houses with only 1-2 numbers.\n",
    "\n",
    "The distribution of variables KBA* that characterizes cars indicates that the uses from the cluster 4 like to have sedan luxury cars, given their high share of mercedes, low share with cars with 5 or more seats and car with a max-size speed between 140-210. The users from the clusters 0 and 5 seems to be more conservative in this regards. Maybe this indicates these type of users already have children while the users from the clusters 5 not. \n",
    "\n",
    "Finally, the last set of variables indicates the users from the cluster 3 have way more affinity for online transactions and activities than the others clusters.\n",
    "\n",
    "In conlusion, I'd say the customer persona for the company are high-paid young worker. They're either single, with interest in luxury or in couple or soon to be fathers with more conservative interests. Between these users, there are people who have great affinity for online transactions."
   ]
  },
  {
   "cell_type": "code",
   "execution_count": 66,
   "metadata": {},
   "outputs": [
    {
     "data": {
      "image/png": "[encoded data removed]",
      "text/plain": [
       "<Figure size 1008x216 with 2 Axes>"
      ]
     },
     "metadata": {
      "needs_background": "light"
     },
     "output_type": "display_data"
    },
    {
     "data": {
      "image/png": "[encoded data removed]",
      "text/plain": [
       "<Figure size 1008x216 with 2 Axes>"
      ]
     },
     "metadata": {
      "needs_background": "light"
     },
     "output_type": "display_data"
    },
    {
     "data": {
      "image/png": "[encoded data removed]",
      "text/plain": [
       "<Figure size 1008x216 with 2 Axes>"
      ]
     },
     "metadata": {
      "needs_background": "light"
     },
     "output_type": "display_data"
    },
    {
     "data": {
      "image/png": "[encoded data removed]",
      "text/plain": [
       "<Figure size 1008x216 with 2 Axes>"
      ]
     },
     "metadata": {
      "needs_background": "light"
     },
     "output_type": "display_data"
    },
    {
     "data": {
      "image/png": "[encoded data removed]",
      "text/plain": [
       "<Figure size 1008x216 with 2 Axes>"
      ]
     },
     "metadata": {
      "needs_background": "light"
     },
     "output_type": "display_data"
    },
    {
     "data": {
      "image/png": "[encoded data removed]",
      "text/plain": [
       "<Figure size 1008x216 with 2 Axes>"
      ]
     },
     "metadata": {
      "needs_background": "light"
     },
     "output_type": "display_data"
    },
    {
     "data": {
      "image/png": "[encoded data removed]",
      "text/plain": [
       "<Figure size 1008x216 with 2 Axes>"
      ]
     },
     "metadata": {
      "needs_background": "light"
     },
     "output_type": "display_data"
    },
    {
     "data": {
      "image/png": "[encoded data removed]",
      "text/plain": [
       "<Figure size 1008x216 with 2 Axes>"
      ]
     },
     "metadata": {
      "needs_background": "light"
     },
     "output_type": "display_data"
    },
    {
     "data": {
      "image/png": "[encoded data removed]",
      "text/plain": [
       "<Figure size 1008x216 with 2 Axes>"
      ]
     },
     "metadata": {
      "needs_background": "light"
     },
     "output_type": "display_data"
    }
   ],
   "source": [
    "it = iter(cluster_specs.columns)\n",
    "for i in it:\n",
    "    fig, (ax1, ax2) = plt.subplots(1,2, figsize = (14,3))\n",
    "    var1 = i \n",
    "    sns.barplot(x=cluster_specs.index, y=cluster_specs[var1], ax=ax1)\n",
    "    ax1.set_title(var1)\n",
    "    try:\n",
    "        var2 = next(it)\n",
    "        sns.barplot(x=cluster_specs.index, y=cluster_specs[var2], ax=ax2)\n",
    "        ax2.set_title(var2)\n",
    "    except:\n",
    "        pass"
   ]
  },
  {
   "cell_type": "markdown",
   "metadata": {},
   "source": [
    "## Part 2: Supervised Learning Model\n",
    "\n",
    "Now that you've found which parts of the population are more likely to be customers of the mail-order company, it's time to build a prediction model. Each of the rows in the \"MAILOUT\" data files represents an individual that was targeted for a mailout campaign. Ideally, we should be able to use the demographic information from each individual to decide whether or not it will be worth it to include that person in the campaign.\n",
    "\n",
    "The \"MAILOUT\" data has been split into two approximately equal parts, each with almost 43 000 data rows. In this part, you can verify your model with the \"TRAIN\" partition, which includes a column, \"RESPONSE\", that states whether or not a person became a customer of the company following the campaign. In the next part, you'll need to create predictions on the \"TEST\" partition, where the \"RESPONSE\" column has been withheld."
   ]
  },
  {
   "cell_type": "code",
   "execution_count": 40,
   "metadata": {},
   "outputs": [],
   "source": [
    "mailout_train = pd.read_csv('arvato_data/Udacity_MAILOUT_052018_TRAIN.csv', sep=';')\n",
    "values_metadata = load_metadata()"
   ]
  },
  {
   "cell_type": "code",
   "execution_count": 41,
   "metadata": {
    "scrolled": true
   },
   "outputs": [
    {
     "name": "stdout",
     "output_type": "stream",
     "text": [
      "Selecting Columns with metadata\n",
      "Fixing mix data types\n",
      "Replace values for NaN\n",
      "224 columns were affected\n",
      "Capping Outliers\n",
      "263 columns were affected\n",
      "Feature Eng for categorical variables\n",
      "Removing rows and columns with more than 20% null values\n",
      "Impute Null values with Mode\n",
      "Pipeline Finished\n"
     ]
    }
   ],
   "source": [
    "mailout_train_clean = clean_datasets(df = mailout_train, metadata=values_metadata, column_limit=0.3, row_limit=0.3)\n",
    "labels = mailout_train.loc[mailout_train_clean.index,'RESPONSE']"
   ]
  },
  {
   "cell_type": "markdown",
   "metadata": {},
   "source": [
    "#### Baseline\n",
    "The baseline model will be a Logistic Regression without scaling the data. This will be the easiest approach. \n",
    "To compare differents models, the ROC score will be used. The Data is highly imbalanced, one class represent about 98% of the labels."
   ]
  },
  {
   "cell_type": "code",
   "execution_count": 43,
   "metadata": {},
   "outputs": [
    {
     "data": {
      "image/png": "[encoded data removed]",
      "text/plain": [
       "<Figure size 432x288 with 1 Axes>"
      ]
     },
     "metadata": {
      "needs_background": "light"
     },
     "output_type": "display_data"
    }
   ],
   "source": [
    "#imbalaced class\n",
    "labels.value_counts(normalize=True).plot(kind='bar')\n",
    "plt.xlabel('labels')\n",
    "plt.show()"
   ]
  },
  {
   "cell_type": "markdown",
   "metadata": {},
   "source": [
    "#### Baseline model"
   ]
  },
  {
   "cell_type": "code",
   "execution_count": 44,
   "metadata": {},
   "outputs": [
    {
     "name": "stdout",
     "output_type": "stream",
     "text": [
      "Baseline AUROC -  0.6457432357161503\n"
     ]
    }
   ],
   "source": [
    "# scale the data\n",
    "scaler = StandardScaler()\n",
    "mailout_train_scaled = pd.DataFrame(scaler.fit_transform(mailout_train_clean), columns = mailout_train_clean.columns)\n",
    "X_train, X_val, y_train, y_val = train_test_split(mailout_train_scaled, labels, stratify=labels, test_size=0.2, random_state=SEED)\n",
    "lr = LogisticRegression(random_state=SEED, max_iter=10000)\n",
    "lr.fit(X_train, y_train)\n",
    "yhat = lr.predict_proba(X_val)[:,1]\n",
    "print(\"Baseline AUROC - \", roc_auc_score(y_val, yhat))"
   ]
  },
  {
   "cell_type": "markdown",
   "metadata": {},
   "source": [
    "#### Train multiple models\n",
    "\n",
    "In this section we are going to train multiple models to see which one has a better performance than the baseline"
   ]
  },
  {
   "cell_type": "code",
   "execution_count": 45,
   "metadata": {},
   "outputs": [],
   "source": [
    "from lightgbm import LGBMClassifier\n",
    "\n",
    "def train_and_predict(model, X_train, y_train, X_test, y_test):\n",
    "    \"\"\"\n",
    "    Fit a model on X_train, y_train\n",
    "    predicts on X_text, y_test \n",
    "    Calculate AUROC on predictions made on test data\n",
    "    \n",
    "    Outputs - AUROC score, time elapse for training and prediction    \n",
    "    \"\"\"\n",
    "    start = time.time()\n",
    "    model = model.fit(X_train, y_train)\n",
    "    \n",
    "    roc_score = roc_auc_score(y_test, model.predict_proba(X_test)[:,1])\n",
    "    \n",
    "    end = time.time()\n",
    "    time_elapsed = end - start\n",
    "    \n",
    "    return roc_score, time_elapsed\n",
    "\n",
    "models = [(\"LogisticRegression\", LogisticRegression(random_state=SEED, max_iter=10000)),\n",
    "         (\"RandomForestClassifier\", RandomForestClassifier(random_state=SEED)),\n",
    "         (\"GradientBoostingClassifier\", GradientBoostingClassifier(random_state=SEED)),\n",
    "         (\"AdaBoostClassifier\", AdaBoostClassifier(random_state=SEED)),\n",
    "          ('KNeighbors', KNeighborsClassifier()),\n",
    "         (\"XGBClassifier\",xgb.XGBClassifier(random_state=SEED))]"
   ]
  },
  {
   "cell_type": "code",
   "execution_count": 46,
   "metadata": {},
   "outputs": [
    {
     "name": "stdout",
     "output_type": "stream",
     "text": [
      "LogisticRegression\n",
      "RandomForestClassifier\n",
      "GradientBoostingClassifier\n",
      "AdaBoostClassifier\n",
      "KNeighbors\n",
      "XGBClassifier\n",
      "[18:50:26] WARNING: C:/Users/Administrator/workspace/xgboost-win64_release_1.3.0/src/learner.cc:1061: Starting in XGBoost 1.3.0, the default evaluation metric used with the objective 'binary:logistic' was changed from 'error' to 'logloss'. Explicitly set eval_metric if you'd like to restore the old behavior.\n"
     ]
    },
    {
     "data": {
      "text/html": [
       "<div>\n",
       "<style scoped>\n",
       "    .dataframe tbody tr th:only-of-type {\n",
       "        vertical-align: middle;\n",
       "    }\n",
       "\n",
       "    .dataframe tbody tr th {\n",
       "        vertical-align: top;\n",
       "    }\n",
       "\n",
       "    .dataframe thead th {\n",
       "        text-align: right;\n",
       "    }\n",
       "</style>\n",
       "<table border=\"1\" class=\"dataframe\">\n",
       "  <thead>\n",
       "    <tr style=\"text-align: right;\">\n",
       "      <th></th>\n",
       "      <th>Model</th>\n",
       "      <th>AUCROC_score</th>\n",
       "      <th>Time_in_sec</th>\n",
       "    </tr>\n",
       "  </thead>\n",
       "  <tbody>\n",
       "    <tr>\n",
       "      <th>0</th>\n",
       "      <td>LogisticRegression</td>\n",
       "      <td>0.645743</td>\n",
       "      <td>1.541199</td>\n",
       "    </tr>\n",
       "    <tr>\n",
       "      <th>1</th>\n",
       "      <td>RandomForestClassifier</td>\n",
       "      <td>0.499505</td>\n",
       "      <td>7.058569</td>\n",
       "    </tr>\n",
       "    <tr>\n",
       "      <th>2</th>\n",
       "      <td>GradientBoostingClassifier</td>\n",
       "      <td>0.663263</td>\n",
       "      <td>32.320134</td>\n",
       "    </tr>\n",
       "    <tr>\n",
       "      <th>3</th>\n",
       "      <td>AdaBoostClassifier</td>\n",
       "      <td>0.623466</td>\n",
       "      <td>8.261115</td>\n",
       "    </tr>\n",
       "    <tr>\n",
       "      <th>4</th>\n",
       "      <td>KNeighbors</td>\n",
       "      <td>0.514606</td>\n",
       "      <td>6.676594</td>\n",
       "    </tr>\n",
       "    <tr>\n",
       "      <th>5</th>\n",
       "      <td>XGBClassifier</td>\n",
       "      <td>0.597926</td>\n",
       "      <td>3.18606</td>\n",
       "    </tr>\n",
       "  </tbody>\n",
       "</table>\n",
       "</div>"
      ],
      "text/plain": [
       "                        Model AUCROC_score Time_in_sec\n",
       "0          LogisticRegression     0.645743    1.541199\n",
       "1      RandomForestClassifier     0.499505    7.058569\n",
       "2  GradientBoostingClassifier     0.663263   32.320134\n",
       "3          AdaBoostClassifier     0.623466    8.261115\n",
       "4                  KNeighbors     0.514606    6.676594\n",
       "5               XGBClassifier     0.597926     3.18606"
      ]
     },
     "execution_count": 46,
     "metadata": {},
     "output_type": "execute_result"
    }
   ],
   "source": [
    "results = {\"Model\":[],\n",
    "          \"AUCROC_score\":[],\n",
    "          \"Time_in_sec\":[]}\n",
    "\n",
    "for name, model in models:\n",
    "    print(name)\n",
    "    roc, time_ = train_and_predict(model, X_train, y_train, X_val, y_val)\n",
    "    results[\"Model\"].append(name)\n",
    "    results[\"AUCROC_score\"].append(roc)\n",
    "    results[\"Time_in_sec\"].append(time_)\n",
    "\n",
    "    \n",
    "results = pd.DataFrame.from_dict(results, orient='index').transpose()\n",
    "results"
   ]
  },
  {
   "cell_type": "markdown",
   "metadata": {},
   "source": [
    "The best performant model was the GradientBoostingClassifier followed closely by LogisticRegression. They're chosen to perform some HyperParameter tuning"
   ]
  },
  {
   "cell_type": "markdown",
   "metadata": {},
   "source": [
    "### Tuning\n",
    "\n",
    "After selecting a model, we are going to perform a hyperparameter to improve its performance."
   ]
  },
  {
   "cell_type": "code",
   "execution_count": 47,
   "metadata": {},
   "outputs": [
    {
     "name": "stdout",
     "output_type": "stream",
     "text": [
      "Best Score:  0.5935127570087817\n",
      "Best Params:  {'C': 1, 'penalty': 'l2'}\n",
      "ROC score on validation data: 0.6457\n"
     ]
    }
   ],
   "source": [
    "#Logistic Regression\n",
    "param_grid = {\"C\": [-10,-5,-2,-1,-0,1,5,10,20,100],\n",
    "              \"penalty\": ['l1', 'l2'],\n",
    "              }\n",
    "\n",
    "lr_grid = GridSearchCV(estimator = LogisticRegression(random_state=SEED, max_iter=10000), \n",
    "                           param_grid = param_grid, \n",
    "                           scoring = \"roc_auc\", \n",
    "                           cv = 5, n_jobs = -1, verbose=-1)\n",
    "\n",
    "lr_grid.fit(X_train, y_train)\n",
    "\n",
    "best_lr = lr_grid.best_estimator_\n",
    "\n",
    "print(\"Best Score: \", lr_grid.best_score_)\n",
    "print(\"Best Params: \", lr_grid.best_params_)\n",
    "\n",
    "yhat_val = best_lr.predict_proba(X_val)[:,1]\n",
    "print(\"ROC score on validation data: {:.4f}\".format(roc_auc_score(y_val, yhat_val)))"
   ]
  },
  {
   "cell_type": "code",
   "execution_count": 48,
   "metadata": {},
   "outputs": [
    {
     "name": "stdout",
     "output_type": "stream",
     "text": [
      "Fitting 3 folds for each of 18 candidates, totalling 54 fits\n",
      "Best Score:  0.6256816801537389\n",
      "Best Params:  {'loss': 'exponential', 'max_depth': 4, 'n_estimators': 200}\n",
      "ROC score on validation data: 0.6343\n"
     ]
    }
   ],
   "source": [
    "# GradientBoosting\n",
    "param_grid = {'max_depth': [3,4,5],\n",
    "             'loss':['deviance', 'exponential'],\n",
    "             'n_estimators': [100, 150, 200]}\n",
    "\n",
    "gb_grid = GridSearchCV(estimator = GradientBoostingClassifier(random_state=SEED), \n",
    "                           param_grid = param_grid, \n",
    "                           scoring = \"roc_auc\", \n",
    "                           cv = 3, n_jobs = -1, verbose=2)\n",
    "\n",
    "gb_grid.fit(X_train, y_train)\n",
    "\n",
    "best_gb = gb_grid.best_estimator_\n",
    "\n",
    "print(\"Best Score: \", gb_grid.best_score_)\n",
    "print(\"Best Params: \", gb_grid.best_params_)\n",
    "\n",
    "yhat_val = best_gb.predict_proba(X_val)[:,1]\n",
    "print(\"ROC score on validation data: {:.4f}\".format(roc_auc_score(y_val, yhat_val)))"
   ]
  },
  {
   "cell_type": "markdown",
   "metadata": {},
   "source": [
    "Tuning did not provide any performance increase for the LogisicRegression Model but it did for the GradientBoostingClassifier which reach 67% of ROC Score after tuning."
   ]
  },
  {
   "cell_type": "markdown",
   "metadata": {},
   "source": [
    "## Part 3: Kaggle Competition\n",
    "\n",
    "Now that you've created a model to predict which individuals are most likely to respond to a mailout campaign, it's time to test that model in competition through Kaggle. If you click on the link [here](http://www.kaggle.com/t/21e6d45d4c574c7fa2d868f0e8c83140), you'll be taken to the competition page where, if you have a Kaggle account, you can enter.\n",
    "\n",
    "Your entry to the competition should be a CSV file with two columns. The first column should be a copy of \"LNR\", which acts as an ID number for each individual in the \"TEST\" partition. The second column, \"RESPONSE\", should be some measure of how likely each individual became a customer – this might not be a straightforward probability. As you should have found in Part 2, there is a large output class imbalance, where most individuals did not respond to the mailout. Thus, predicting individual classes and using accuracy does not seem to be an appropriate performance evaluation method. Instead, the competition will be using AUC to evaluate performance. The exact values of the \"RESPONSE\" column do not matter as much: only that the higher values try to capture as many of the actual customers as possible, early in the ROC curve sweep."
   ]
  },
  {
   "cell_type": "code",
   "execution_count": null,
   "metadata": {},
   "outputs": [],
   "source": [
    "mailout_test = pd.read_csv('arvato_data/Udacity_MAILOUT_052018_TEST.csv', sep=';')"
   ]
  },
  {
   "cell_type": "code",
   "execution_count": null,
   "metadata": {
    "scrolled": true
   },
   "outputs": [],
   "source": [
    "mailout_test_clean = clean_datasets(mailout_test, values_metadata, False)\n",
    "mailout_test_clean = scaler.transform(mailout_test_clean[X_train.columns.tolist()])"
   ]
  },
  {
   "cell_type": "code",
   "execution_count": null,
   "metadata": {},
   "outputs": [],
   "source": [
    "best_gb = GradientBoostingClassifier(random_state=SEED)\n",
    "best_gb.fit(X_train, y_train)\n",
    "yhat = pd.DataFrame(best_gb.predict_proba(mailout_test_clean)[:,1], index=mailout_test['LNR'], columns=['RESPONSE'])\n",
    "yhat.head()"
   ]
  },
  {
   "cell_type": "code",
   "execution_count": null,
   "metadata": {},
   "outputs": [],
   "source": [
    "yhat.to_csv(\"submission.csv\")"
   ]
  }
 ],
 "metadata": {
  "kernelspec": {
   "display_name": "Python 3",
   "language": "python",
   "name": "python3"
  },
  "language_info": {
   "codemirror_mode": {
    "name": "ipython",
    "version": 3
   },
   "file_extension": ".py",
   "mimetype": "text/x-python",
   "name": "python",
   "nbconvert_exporter": "python",
   "pygments_lexer": "ipython3",
   "version": "3.8.8"
  }
 },
 "nbformat": 4,
 "nbformat_minor": 4
}
